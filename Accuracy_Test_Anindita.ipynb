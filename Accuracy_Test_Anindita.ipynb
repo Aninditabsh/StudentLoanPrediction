{
  "nbformat": 4,
  "nbformat_minor": 0,
  "metadata": {
    "colab": {
      "name": "Accuracy Test Anindita.ipynb",
      "provenance": [],
      "collapsed_sections": []
    },
    "kernelspec": {
      "name": "python3",
      "display_name": "Python 3"
    },
    "language_info": {
      "name": "python"
    }
  },
  "cells": [
    {
      "cell_type": "code",
      "execution_count": 32,
      "metadata": {
        "colab": {
          "base_uri": "https://localhost:8080/"
        },
        "id": "vxQJh6R3D3fh",
        "outputId": "0fa8cd50-8e33-4c26-abbe-a9238e0b3d15"
      },
      "outputs": [
        {
          "output_type": "stream",
          "name": "stdout",
          "text": [
            "Drive already mounted at /content/drive; to attempt to forcibly remount, call drive.mount(\"/content/drive\", force_remount=True).\n"
          ]
        }
      ],
      "source": [
        "from google.colab import drive\n",
        "drive.mount('/content/drive')"
      ]
    },
    {
      "cell_type": "code",
      "source": [
        "# importing libraries  \n",
        "import numpy as nm  \n",
        "import matplotlib.pyplot as mtp  \n",
        "import pandas as pd  "
      ],
      "metadata": {
        "id": "UY_ZeEoTELxT"
      },
      "execution_count": 33,
      "outputs": []
    },
    {
      "cell_type": "code",
      "source": [
        "#importing datasets  \n",
        "data_set= pd.read_csv('/content/drive/MyDrive/ML Dataset/AninditaDataset.csv') "
      ],
      "metadata": {
        "id": "PKFqR3wlEPGT"
      },
      "execution_count": 34,
      "outputs": []
    },
    {
      "cell_type": "code",
      "source": [
        "print(data_set)"
      ],
      "metadata": {
        "colab": {
          "base_uri": "https://localhost:8080/"
        },
        "id": "qz5SO5CzEVTH",
        "outputId": "36bf05af-167f-464a-dbdd-6b6bdfa7bc95"
      },
      "execution_count": 35,
      "outputs": [
        {
          "output_type": "stream",
          "name": "stdout",
          "text": [
            "     Gender  Age  Result of HSC  Result of SSC  Year of Enrollment  \\\n",
            "0    Female   27           4.47           3.27                2020   \n",
            "1      Male   27           4.47           4.67                2019   \n",
            "2    Female   20           4.33           5.00                2019   \n",
            "3    Female   24           4.83           3.58                2020   \n",
            "4    Female   30           4.50           3.89                2020   \n",
            "..      ...  ...            ...            ...                 ...   \n",
            "995  Female   19           4.89           3.40                2021   \n",
            "996    Male   24           4.67           3.83                2022   \n",
            "997  Female   26           3.75           3.15                2021   \n",
            "998    Male   23           4.47           4.67                2018   \n",
            "999    Male   23           4.33           4.72                2019   \n",
            "\n",
            "     Certifications Institution            Discipline Family Dependency  \\\n",
            "0              3.75        UITS          Art & Design               Yes   \n",
            "1              3.33         JNU           Mathematics                No   \n",
            "2              3.89        AIUB           Mathematics               Yes   \n",
            "3              3.89         UIU              Business                No   \n",
            "4              3.15        RUET  Education & Teaching               Yes   \n",
            "..              ...         ...                   ...               ...   \n",
            "995            3.58        KUET           Programming               Yes   \n",
            "996            3.97         IUB      Computer Science                No   \n",
            "997            3.00        MIST          Art & Design                No   \n",
            "998            3.67         NSU              Business                No   \n",
            "999            3.15         JNU           Mathematics               Yes   \n",
            "\n",
            "     Applied Loan Amount  Duration of Loan  Approved Loan Amount  \\\n",
            "0                1598000                 3                375000   \n",
            "1                 472000                 3                300000   \n",
            "2                 472000                 4                330000   \n",
            "3                1520000                 2                300000   \n",
            "4                1215000                 2                530000   \n",
            "..                   ...               ...                   ...   \n",
            "995              1400000                 3                290000   \n",
            "996              2429700                 2                220000   \n",
            "997              1598000                 3                580000   \n",
            "998              1520000                 2                250000   \n",
            "999               472000                 4                440000   \n",
            "\n",
            "    NOC from University Approved  \n",
            "0                   Yes      Yes  \n",
            "1                    No       No  \n",
            "2                    No      Yes  \n",
            "3                   Yes      Yes  \n",
            "4                    No       No  \n",
            "..                  ...      ...  \n",
            "995                 Yes       No  \n",
            "996                 Yes       No  \n",
            "997                  No       No  \n",
            "998                  No      Yes  \n",
            "999                  No       No  \n",
            "\n",
            "[1000 rows x 14 columns]\n"
          ]
        }
      ]
    },
    {
      "cell_type": "code",
      "source": [
        "data_set.shape"
      ],
      "metadata": {
        "colab": {
          "base_uri": "https://localhost:8080/"
        },
        "id": "cpS9HWxSEZFn",
        "outputId": "07950dec-503e-48e7-ba8d-c38773be7e2d"
      },
      "execution_count": 36,
      "outputs": [
        {
          "output_type": "execute_result",
          "data": {
            "text/plain": [
              "(1000, 14)"
            ]
          },
          "metadata": {},
          "execution_count": 36
        }
      ]
    },
    {
      "cell_type": "code",
      "source": [
        "col_names = ['Gender', 'Age', 'Result of HSC', 'Result of SSC', 'Year of Enrollment', 'Certifications', 'Institution', 'Discipline', 'Family Dependency', \n",
        "'Applied Loan Amount', 'Duration of Loan', 'Approved Loan Amount', 'NOC from University', 'Approved']\n",
        "data_set.columns = col_names\n",
        "col_names"
      ],
      "metadata": {
        "colab": {
          "base_uri": "https://localhost:8080/"
        },
        "id": "7OA1Z_VgEfES",
        "outputId": "1508d08c-a342-44d3-b9d1-320e4b97345c"
      },
      "execution_count": 37,
      "outputs": [
        {
          "output_type": "execute_result",
          "data": {
            "text/plain": [
              "['Gender',\n",
              " 'Age',\n",
              " 'Result of HSC',\n",
              " 'Result of SSC',\n",
              " 'Year of Enrollment',\n",
              " 'Certifications',\n",
              " 'Institution',\n",
              " 'Discipline',\n",
              " 'Family Dependency',\n",
              " 'Applied Loan Amount',\n",
              " 'Duration of Loan',\n",
              " 'Approved Loan Amount',\n",
              " 'NOC from University',\n",
              " 'Approved']"
            ]
          },
          "metadata": {},
          "execution_count": 37
        }
      ]
    },
    {
      "cell_type": "code",
      "source": [
        "col_names = ['Gender', 'Age', 'Result of HSC', 'Result of SSC', 'Year of Enrollment', 'Certifications', 'Institution', 'Discipline', 'Family Dependency', \n",
        "'Applied Loan Amount', 'Duration of Loan', 'Approved Loan Amount', 'NOC from University', 'Approved']\n",
        "for col in col_names:\n",
        "  print(data_set[col].value_counts())"
      ],
      "metadata": {
        "colab": {
          "base_uri": "https://localhost:8080/"
        },
        "id": "QfsaAqAnFiUF",
        "outputId": "19fdceb8-b488-4b16-d519-914567d2e058"
      },
      "execution_count": 38,
      "outputs": [
        {
          "output_type": "stream",
          "name": "stdout",
          "text": [
            "Female    522\n",
            "Male      478\n",
            "Name: Gender, dtype: int64\n",
            "20    93\n",
            "27    91\n",
            "29    87\n",
            "19    79\n",
            "23    79\n",
            "30    78\n",
            "24    76\n",
            "28    74\n",
            "21    73\n",
            "22    73\n",
            "18    66\n",
            "26    66\n",
            "25    65\n",
            "Name: Age, dtype: int64\n",
            "5.00    46\n",
            "3.75    44\n",
            "4.09    44\n",
            "4.89    44\n",
            "4.67    43\n",
            "4.50    42\n",
            "4.40    41\n",
            "3.67    40\n",
            "3.83    38\n",
            "4.15    38\n",
            "3.52    38\n",
            "4.33    38\n",
            "4.97    37\n",
            "4.27    36\n",
            "3.33    36\n",
            "4.56    36\n",
            "4.47    34\n",
            "3.15    31\n",
            "3.40    30\n",
            "3.00    29\n",
            "4.72    29\n",
            "3.89    29\n",
            "3.46    28\n",
            "3.09    27\n",
            "4.00    26\n",
            "3.97    25\n",
            "3.27    25\n",
            "4.83    24\n",
            "3.58    22\n",
            "Name: Result of HSC, dtype: int64\n",
            "3.97    46\n",
            "4.47    44\n",
            "3.58    40\n",
            "4.15    39\n",
            "4.27    39\n",
            "4.50    39\n",
            "3.27    38\n",
            "3.89    37\n",
            "3.75    37\n",
            "3.40    37\n",
            "4.00    36\n",
            "4.89    36\n",
            "4.33    35\n",
            "4.56    35\n",
            "5.00    35\n",
            "3.83    34\n",
            "3.09    33\n",
            "3.33    33\n",
            "4.83    33\n",
            "4.67    32\n",
            "4.97    32\n",
            "4.09    32\n",
            "4.40    32\n",
            "3.52    31\n",
            "3.67    30\n",
            "3.46    30\n",
            "4.72    28\n",
            "3.00    24\n",
            "3.15    23\n",
            "Name: Result of SSC, dtype: int64\n",
            "2019    222\n",
            "2020    219\n",
            "2021    211\n",
            "2022    184\n",
            "2018    164\n",
            "Name: Year of Enrollment, dtype: int64\n",
            "3.15    86\n",
            "3.09    82\n",
            "3.67    82\n",
            "3.97    81\n",
            "3.40    68\n",
            "3.58    68\n",
            "3.52    64\n",
            "3.89    63\n",
            "3.27    63\n",
            "3.75    60\n",
            "4.00    60\n",
            "3.00    57\n",
            "3.46    57\n",
            "3.33    56\n",
            "3.83    53\n",
            "Name: Certifications, dtype: int64\n",
            "KUET     73\n",
            "EWU      72\n",
            "AIUB     70\n",
            "UIU      67\n",
            "IUB      64\n",
            "DU       59\n",
            "NSU      59\n",
            "UITS     57\n",
            "BracU    57\n",
            "CU       57\n",
            "JNU      56\n",
            "RUET     56\n",
            "RU       55\n",
            "NSTU     55\n",
            "SUST     54\n",
            "MIST     47\n",
            "JU       42\n",
            "Name: Institution, dtype: int64\n",
            "Mathematics             128\n",
            "Education & Teaching    126\n",
            "Health & Medicine       122\n",
            "Art & Design            112\n",
            "Programming             110\n",
            "Data Science            110\n",
            "Business                101\n",
            "Humainities              97\n",
            "Computer Science         94\n",
            "Name: Discipline, dtype: int64\n",
            "Yes    505\n",
            "No     495\n",
            "Name: Family Dependency, dtype: int64\n",
            "472000     128\n",
            "1215000    126\n",
            "935000     122\n",
            "1598000    112\n",
            "1400000    110\n",
            "1776000    110\n",
            "1520000    101\n",
            "1170000     97\n",
            "2429700     94\n",
            "Name: Applied Loan Amount, dtype: int64\n",
            "4    344\n",
            "2    330\n",
            "3    326\n",
            "Name: Duration of Loan, dtype: int64\n",
            "300000    126\n",
            "330000     76\n",
            "490000     67\n",
            "290000     63\n",
            "500000     62\n",
            "200000     62\n",
            "250000     60\n",
            "472000     59\n",
            "440000     58\n",
            "580000     56\n",
            "220000     56\n",
            "375000     54\n",
            "600000     52\n",
            "400000     51\n",
            "175000     50\n",
            "530000     48\n",
            "Name: Approved Loan Amount, dtype: int64\n",
            "No     687\n",
            "Yes    313\n",
            "Name: NOC from University, dtype: int64\n",
            "No     694\n",
            "Yes    306\n",
            "Name: Approved, dtype: int64\n"
          ]
        }
      ]
    },
    {
      "cell_type": "code",
      "source": [
        "data_set['Approved'].value_counts()"
      ],
      "metadata": {
        "colab": {
          "base_uri": "https://localhost:8080/"
        },
        "id": "23ThWOlbFwK6",
        "outputId": "77ccbf5b-3e3a-443e-da94-01ec6a5c255e"
      },
      "execution_count": 39,
      "outputs": [
        {
          "output_type": "execute_result",
          "data": {
            "text/plain": [
              "No     694\n",
              "Yes    306\n",
              "Name: Approved, dtype: int64"
            ]
          },
          "metadata": {},
          "execution_count": 39
        }
      ]
    },
    {
      "cell_type": "code",
      "source": [
        "data_set.isnull().sum()"
      ],
      "metadata": {
        "colab": {
          "base_uri": "https://localhost:8080/"
        },
        "id": "0ZqC-QoGF3R8",
        "outputId": "d1c71dde-f119-4608-b644-75bb6e9a0a65"
      },
      "execution_count": 40,
      "outputs": [
        {
          "output_type": "execute_result",
          "data": {
            "text/plain": [
              "Gender                  0\n",
              "Age                     0\n",
              "Result of HSC           0\n",
              "Result of SSC           0\n",
              "Year of Enrollment      0\n",
              "Certifications          0\n",
              "Institution             0\n",
              "Discipline              0\n",
              "Family Dependency       0\n",
              "Applied Loan Amount     0\n",
              "Duration of Loan        0\n",
              "Approved Loan Amount    0\n",
              "NOC from University     0\n",
              "Approved                0\n",
              "dtype: int64"
            ]
          },
          "metadata": {},
          "execution_count": 40
        }
      ]
    },
    {
      "cell_type": "code",
      "source": [
        "x = data_set.drop(['Approved'], axis=1)\n",
        "y = data_set['Approved']"
      ],
      "metadata": {
        "id": "hOlRkp00F6SW"
      },
      "execution_count": 41,
      "outputs": []
    },
    {
      "cell_type": "code",
      "source": [
        "x"
      ],
      "metadata": {
        "colab": {
          "base_uri": "https://localhost:8080/",
          "height": 424
        },
        "id": "95ouoVGHF_TY",
        "outputId": "37382033-d1a8-4285-831a-8e97b35d6522"
      },
      "execution_count": 42,
      "outputs": [
        {
          "output_type": "execute_result",
          "data": {
            "text/plain": [
              "     Gender  Age  Result of HSC  Result of SSC  Year of Enrollment  \\\n",
              "0    Female   27           4.47           3.27                2020   \n",
              "1      Male   27           4.47           4.67                2019   \n",
              "2    Female   20           4.33           5.00                2019   \n",
              "3    Female   24           4.83           3.58                2020   \n",
              "4    Female   30           4.50           3.89                2020   \n",
              "..      ...  ...            ...            ...                 ...   \n",
              "995  Female   19           4.89           3.40                2021   \n",
              "996    Male   24           4.67           3.83                2022   \n",
              "997  Female   26           3.75           3.15                2021   \n",
              "998    Male   23           4.47           4.67                2018   \n",
              "999    Male   23           4.33           4.72                2019   \n",
              "\n",
              "     Certifications Institution            Discipline Family Dependency  \\\n",
              "0              3.75        UITS          Art & Design               Yes   \n",
              "1              3.33         JNU           Mathematics                No   \n",
              "2              3.89        AIUB           Mathematics               Yes   \n",
              "3              3.89         UIU              Business                No   \n",
              "4              3.15        RUET  Education & Teaching               Yes   \n",
              "..              ...         ...                   ...               ...   \n",
              "995            3.58        KUET           Programming               Yes   \n",
              "996            3.97         IUB      Computer Science                No   \n",
              "997            3.00        MIST          Art & Design                No   \n",
              "998            3.67         NSU              Business                No   \n",
              "999            3.15         JNU           Mathematics               Yes   \n",
              "\n",
              "     Applied Loan Amount  Duration of Loan  Approved Loan Amount  \\\n",
              "0                1598000                 3                375000   \n",
              "1                 472000                 3                300000   \n",
              "2                 472000                 4                330000   \n",
              "3                1520000                 2                300000   \n",
              "4                1215000                 2                530000   \n",
              "..                   ...               ...                   ...   \n",
              "995              1400000                 3                290000   \n",
              "996              2429700                 2                220000   \n",
              "997              1598000                 3                580000   \n",
              "998              1520000                 2                250000   \n",
              "999               472000                 4                440000   \n",
              "\n",
              "    NOC from University  \n",
              "0                   Yes  \n",
              "1                    No  \n",
              "2                    No  \n",
              "3                   Yes  \n",
              "4                    No  \n",
              "..                  ...  \n",
              "995                 Yes  \n",
              "996                 Yes  \n",
              "997                  No  \n",
              "998                  No  \n",
              "999                  No  \n",
              "\n",
              "[1000 rows x 13 columns]"
            ],
            "text/html": [
              "\n",
              "  <div id=\"df-7a97ae53-e17b-4e76-b6fd-ef0470e6761d\">\n",
              "    <div class=\"colab-df-container\">\n",
              "      <div>\n",
              "<style scoped>\n",
              "    .dataframe tbody tr th:only-of-type {\n",
              "        vertical-align: middle;\n",
              "    }\n",
              "\n",
              "    .dataframe tbody tr th {\n",
              "        vertical-align: top;\n",
              "    }\n",
              "\n",
              "    .dataframe thead th {\n",
              "        text-align: right;\n",
              "    }\n",
              "</style>\n",
              "<table border=\"1\" class=\"dataframe\">\n",
              "  <thead>\n",
              "    <tr style=\"text-align: right;\">\n",
              "      <th></th>\n",
              "      <th>Gender</th>\n",
              "      <th>Age</th>\n",
              "      <th>Result of HSC</th>\n",
              "      <th>Result of SSC</th>\n",
              "      <th>Year of Enrollment</th>\n",
              "      <th>Certifications</th>\n",
              "      <th>Institution</th>\n",
              "      <th>Discipline</th>\n",
              "      <th>Family Dependency</th>\n",
              "      <th>Applied Loan Amount</th>\n",
              "      <th>Duration of Loan</th>\n",
              "      <th>Approved Loan Amount</th>\n",
              "      <th>NOC from University</th>\n",
              "    </tr>\n",
              "  </thead>\n",
              "  <tbody>\n",
              "    <tr>\n",
              "      <th>0</th>\n",
              "      <td>Female</td>\n",
              "      <td>27</td>\n",
              "      <td>4.47</td>\n",
              "      <td>3.27</td>\n",
              "      <td>2020</td>\n",
              "      <td>3.75</td>\n",
              "      <td>UITS</td>\n",
              "      <td>Art &amp; Design</td>\n",
              "      <td>Yes</td>\n",
              "      <td>1598000</td>\n",
              "      <td>3</td>\n",
              "      <td>375000</td>\n",
              "      <td>Yes</td>\n",
              "    </tr>\n",
              "    <tr>\n",
              "      <th>1</th>\n",
              "      <td>Male</td>\n",
              "      <td>27</td>\n",
              "      <td>4.47</td>\n",
              "      <td>4.67</td>\n",
              "      <td>2019</td>\n",
              "      <td>3.33</td>\n",
              "      <td>JNU</td>\n",
              "      <td>Mathematics</td>\n",
              "      <td>No</td>\n",
              "      <td>472000</td>\n",
              "      <td>3</td>\n",
              "      <td>300000</td>\n",
              "      <td>No</td>\n",
              "    </tr>\n",
              "    <tr>\n",
              "      <th>2</th>\n",
              "      <td>Female</td>\n",
              "      <td>20</td>\n",
              "      <td>4.33</td>\n",
              "      <td>5.00</td>\n",
              "      <td>2019</td>\n",
              "      <td>3.89</td>\n",
              "      <td>AIUB</td>\n",
              "      <td>Mathematics</td>\n",
              "      <td>Yes</td>\n",
              "      <td>472000</td>\n",
              "      <td>4</td>\n",
              "      <td>330000</td>\n",
              "      <td>No</td>\n",
              "    </tr>\n",
              "    <tr>\n",
              "      <th>3</th>\n",
              "      <td>Female</td>\n",
              "      <td>24</td>\n",
              "      <td>4.83</td>\n",
              "      <td>3.58</td>\n",
              "      <td>2020</td>\n",
              "      <td>3.89</td>\n",
              "      <td>UIU</td>\n",
              "      <td>Business</td>\n",
              "      <td>No</td>\n",
              "      <td>1520000</td>\n",
              "      <td>2</td>\n",
              "      <td>300000</td>\n",
              "      <td>Yes</td>\n",
              "    </tr>\n",
              "    <tr>\n",
              "      <th>4</th>\n",
              "      <td>Female</td>\n",
              "      <td>30</td>\n",
              "      <td>4.50</td>\n",
              "      <td>3.89</td>\n",
              "      <td>2020</td>\n",
              "      <td>3.15</td>\n",
              "      <td>RUET</td>\n",
              "      <td>Education &amp; Teaching</td>\n",
              "      <td>Yes</td>\n",
              "      <td>1215000</td>\n",
              "      <td>2</td>\n",
              "      <td>530000</td>\n",
              "      <td>No</td>\n",
              "    </tr>\n",
              "    <tr>\n",
              "      <th>...</th>\n",
              "      <td>...</td>\n",
              "      <td>...</td>\n",
              "      <td>...</td>\n",
              "      <td>...</td>\n",
              "      <td>...</td>\n",
              "      <td>...</td>\n",
              "      <td>...</td>\n",
              "      <td>...</td>\n",
              "      <td>...</td>\n",
              "      <td>...</td>\n",
              "      <td>...</td>\n",
              "      <td>...</td>\n",
              "      <td>...</td>\n",
              "    </tr>\n",
              "    <tr>\n",
              "      <th>995</th>\n",
              "      <td>Female</td>\n",
              "      <td>19</td>\n",
              "      <td>4.89</td>\n",
              "      <td>3.40</td>\n",
              "      <td>2021</td>\n",
              "      <td>3.58</td>\n",
              "      <td>KUET</td>\n",
              "      <td>Programming</td>\n",
              "      <td>Yes</td>\n",
              "      <td>1400000</td>\n",
              "      <td>3</td>\n",
              "      <td>290000</td>\n",
              "      <td>Yes</td>\n",
              "    </tr>\n",
              "    <tr>\n",
              "      <th>996</th>\n",
              "      <td>Male</td>\n",
              "      <td>24</td>\n",
              "      <td>4.67</td>\n",
              "      <td>3.83</td>\n",
              "      <td>2022</td>\n",
              "      <td>3.97</td>\n",
              "      <td>IUB</td>\n",
              "      <td>Computer Science</td>\n",
              "      <td>No</td>\n",
              "      <td>2429700</td>\n",
              "      <td>2</td>\n",
              "      <td>220000</td>\n",
              "      <td>Yes</td>\n",
              "    </tr>\n",
              "    <tr>\n",
              "      <th>997</th>\n",
              "      <td>Female</td>\n",
              "      <td>26</td>\n",
              "      <td>3.75</td>\n",
              "      <td>3.15</td>\n",
              "      <td>2021</td>\n",
              "      <td>3.00</td>\n",
              "      <td>MIST</td>\n",
              "      <td>Art &amp; Design</td>\n",
              "      <td>No</td>\n",
              "      <td>1598000</td>\n",
              "      <td>3</td>\n",
              "      <td>580000</td>\n",
              "      <td>No</td>\n",
              "    </tr>\n",
              "    <tr>\n",
              "      <th>998</th>\n",
              "      <td>Male</td>\n",
              "      <td>23</td>\n",
              "      <td>4.47</td>\n",
              "      <td>4.67</td>\n",
              "      <td>2018</td>\n",
              "      <td>3.67</td>\n",
              "      <td>NSU</td>\n",
              "      <td>Business</td>\n",
              "      <td>No</td>\n",
              "      <td>1520000</td>\n",
              "      <td>2</td>\n",
              "      <td>250000</td>\n",
              "      <td>No</td>\n",
              "    </tr>\n",
              "    <tr>\n",
              "      <th>999</th>\n",
              "      <td>Male</td>\n",
              "      <td>23</td>\n",
              "      <td>4.33</td>\n",
              "      <td>4.72</td>\n",
              "      <td>2019</td>\n",
              "      <td>3.15</td>\n",
              "      <td>JNU</td>\n",
              "      <td>Mathematics</td>\n",
              "      <td>Yes</td>\n",
              "      <td>472000</td>\n",
              "      <td>4</td>\n",
              "      <td>440000</td>\n",
              "      <td>No</td>\n",
              "    </tr>\n",
              "  </tbody>\n",
              "</table>\n",
              "<p>1000 rows × 13 columns</p>\n",
              "</div>\n",
              "      <button class=\"colab-df-convert\" onclick=\"convertToInteractive('df-7a97ae53-e17b-4e76-b6fd-ef0470e6761d')\"\n",
              "              title=\"Convert this dataframe to an interactive table.\"\n",
              "              style=\"display:none;\">\n",
              "        \n",
              "  <svg xmlns=\"http://www.w3.org/2000/svg\" height=\"24px\"viewBox=\"0 0 24 24\"\n",
              "       width=\"24px\">\n",
              "    <path d=\"M0 0h24v24H0V0z\" fill=\"none\"/>\n",
              "    <path d=\"M18.56 5.44l.94 2.06.94-2.06 2.06-.94-2.06-.94-.94-2.06-.94 2.06-2.06.94zm-11 1L8.5 8.5l.94-2.06 2.06-.94-2.06-.94L8.5 2.5l-.94 2.06-2.06.94zm10 10l.94 2.06.94-2.06 2.06-.94-2.06-.94-.94-2.06-.94 2.06-2.06.94z\"/><path d=\"M17.41 7.96l-1.37-1.37c-.4-.4-.92-.59-1.43-.59-.52 0-1.04.2-1.43.59L10.3 9.45l-7.72 7.72c-.78.78-.78 2.05 0 2.83L4 21.41c.39.39.9.59 1.41.59.51 0 1.02-.2 1.41-.59l7.78-7.78 2.81-2.81c.8-.78.8-2.07 0-2.86zM5.41 20L4 18.59l7.72-7.72 1.47 1.35L5.41 20z\"/>\n",
              "  </svg>\n",
              "      </button>\n",
              "      \n",
              "  <style>\n",
              "    .colab-df-container {\n",
              "      display:flex;\n",
              "      flex-wrap:wrap;\n",
              "      gap: 12px;\n",
              "    }\n",
              "\n",
              "    .colab-df-convert {\n",
              "      background-color: #E8F0FE;\n",
              "      border: none;\n",
              "      border-radius: 50%;\n",
              "      cursor: pointer;\n",
              "      display: none;\n",
              "      fill: #1967D2;\n",
              "      height: 32px;\n",
              "      padding: 0 0 0 0;\n",
              "      width: 32px;\n",
              "    }\n",
              "\n",
              "    .colab-df-convert:hover {\n",
              "      background-color: #E2EBFA;\n",
              "      box-shadow: 0px 1px 2px rgba(60, 64, 67, 0.3), 0px 1px 3px 1px rgba(60, 64, 67, 0.15);\n",
              "      fill: #174EA6;\n",
              "    }\n",
              "\n",
              "    [theme=dark] .colab-df-convert {\n",
              "      background-color: #3B4455;\n",
              "      fill: #D2E3FC;\n",
              "    }\n",
              "\n",
              "    [theme=dark] .colab-df-convert:hover {\n",
              "      background-color: #434B5C;\n",
              "      box-shadow: 0px 1px 3px 1px rgba(0, 0, 0, 0.15);\n",
              "      filter: drop-shadow(0px 1px 2px rgba(0, 0, 0, 0.3));\n",
              "      fill: #FFFFFF;\n",
              "    }\n",
              "  </style>\n",
              "\n",
              "      <script>\n",
              "        const buttonEl =\n",
              "          document.querySelector('#df-7a97ae53-e17b-4e76-b6fd-ef0470e6761d button.colab-df-convert');\n",
              "        buttonEl.style.display =\n",
              "          google.colab.kernel.accessAllowed ? 'block' : 'none';\n",
              "\n",
              "        async function convertToInteractive(key) {\n",
              "          const element = document.querySelector('#df-7a97ae53-e17b-4e76-b6fd-ef0470e6761d');\n",
              "          const dataTable =\n",
              "            await google.colab.kernel.invokeFunction('convertToInteractive',\n",
              "                                                     [key], {});\n",
              "          if (!dataTable) return;\n",
              "\n",
              "          const docLinkHtml = 'Like what you see? Visit the ' +\n",
              "            '<a target=\"_blank\" href=https://colab.research.google.com/notebooks/data_table.ipynb>data table notebook</a>'\n",
              "            + ' to learn more about interactive tables.';\n",
              "          element.innerHTML = '';\n",
              "          dataTable['output_type'] = 'display_data';\n",
              "          await google.colab.output.renderOutput(dataTable, element);\n",
              "          const docLink = document.createElement('div');\n",
              "          docLink.innerHTML = docLinkHtml;\n",
              "          element.appendChild(docLink);\n",
              "        }\n",
              "      </script>\n",
              "    </div>\n",
              "  </div>\n",
              "  "
            ]
          },
          "metadata": {},
          "execution_count": 42
        }
      ]
    },
    {
      "cell_type": "code",
      "source": [
        "y"
      ],
      "metadata": {
        "colab": {
          "base_uri": "https://localhost:8080/"
        },
        "id": "_N0NxKPIGB5J",
        "outputId": "a4e10789-afb4-465d-cb3c-a4fca3cdc7fe"
      },
      "execution_count": 43,
      "outputs": [
        {
          "output_type": "execute_result",
          "data": {
            "text/plain": [
              "0      Yes\n",
              "1       No\n",
              "2      Yes\n",
              "3      Yes\n",
              "4       No\n",
              "      ... \n",
              "995     No\n",
              "996     No\n",
              "997     No\n",
              "998    Yes\n",
              "999     No\n",
              "Name: Approved, Length: 1000, dtype: object"
            ]
          },
          "metadata": {},
          "execution_count": 43
        }
      ]
    },
    {
      "cell_type": "code",
      "source": [
        "pip install --upgrade category_encoders"
      ],
      "metadata": {
        "colab": {
          "base_uri": "https://localhost:8080/"
        },
        "id": "E8fUAEzsH9xS",
        "outputId": "93e94ff4-4794-436b-cd12-a965a3c8b521"
      },
      "execution_count": 44,
      "outputs": [
        {
          "output_type": "stream",
          "name": "stdout",
          "text": [
            "Looking in indexes: https://pypi.org/simple, https://us-python.pkg.dev/colab-wheels/public/simple/\n",
            "Requirement already satisfied: category_encoders in /usr/local/lib/python3.7/dist-packages (2.5.0)\n",
            "Requirement already satisfied: patsy>=0.5.1 in /usr/local/lib/python3.7/dist-packages (from category_encoders) (0.5.2)\n",
            "Requirement already satisfied: scikit-learn>=0.20.0 in /usr/local/lib/python3.7/dist-packages (from category_encoders) (1.0.2)\n",
            "Requirement already satisfied: pandas>=1.0.5 in /usr/local/lib/python3.7/dist-packages (from category_encoders) (1.3.5)\n",
            "Requirement already satisfied: scipy>=1.0.0 in /usr/local/lib/python3.7/dist-packages (from category_encoders) (1.7.3)\n",
            "Requirement already satisfied: statsmodels>=0.9.0 in /usr/local/lib/python3.7/dist-packages (from category_encoders) (0.10.2)\n",
            "Requirement already satisfied: numpy>=1.14.0 in /usr/local/lib/python3.7/dist-packages (from category_encoders) (1.21.6)\n",
            "Requirement already satisfied: python-dateutil>=2.7.3 in /usr/local/lib/python3.7/dist-packages (from pandas>=1.0.5->category_encoders) (2.8.2)\n",
            "Requirement already satisfied: pytz>=2017.3 in /usr/local/lib/python3.7/dist-packages (from pandas>=1.0.5->category_encoders) (2022.1)\n",
            "Requirement already satisfied: six in /usr/local/lib/python3.7/dist-packages (from patsy>=0.5.1->category_encoders) (1.15.0)\n",
            "Requirement already satisfied: threadpoolctl>=2.0.0 in /usr/local/lib/python3.7/dist-packages (from scikit-learn>=0.20.0->category_encoders) (3.1.0)\n",
            "Requirement already satisfied: joblib>=0.11 in /usr/local/lib/python3.7/dist-packages (from scikit-learn>=0.20.0->category_encoders) (1.1.0)\n"
          ]
        }
      ]
    },
    {
      "cell_type": "code",
      "source": [
        "import category_encoders as ce"
      ],
      "metadata": {
        "id": "o0k2BR9fIAVb"
      },
      "execution_count": 45,
      "outputs": []
    },
    {
      "cell_type": "code",
      "source": [
        "# Splitting the dataset into training and test set.  \n",
        "from sklearn.model_selection import train_test_split  \n",
        "x_train, x_test, y_train, y_test= train_test_split(x, y, test_size= 0.25, random_state=0) "
      ],
      "metadata": {
        "id": "6Yz-lmirG1x3"
      },
      "execution_count": 46,
      "outputs": []
    },
    {
      "cell_type": "code",
      "source": [
        "x_train.shape, x_test.shape"
      ],
      "metadata": {
        "colab": {
          "base_uri": "https://localhost:8080/"
        },
        "id": "94ilDXxmHgaY",
        "outputId": "c3ebdcff-8757-4583-df4e-dbfc50b45e67"
      },
      "execution_count": 47,
      "outputs": [
        {
          "output_type": "execute_result",
          "data": {
            "text/plain": [
              "((750, 13), (250, 13))"
            ]
          },
          "metadata": {},
          "execution_count": 47
        }
      ]
    },
    {
      "cell_type": "code",
      "source": [
        "# Transform string value to int value\n",
        "\n",
        "encoder = ce.OrdinalEncoder(cols= ['Gender', 'Institution', 'Discipline', 'Family Dependency', 'NOC from University'])\n",
        "\n",
        "x_train = encoder.fit_transform(x_train)\n",
        "x_test = encoder.transform(x_test)"
      ],
      "metadata": {
        "id": "p0-RViZrIBzc"
      },
      "execution_count": 48,
      "outputs": []
    },
    {
      "cell_type": "code",
      "source": [
        "#feature Scaling  \n",
        "from sklearn.preprocessing import StandardScaler    \n",
        "st_x= StandardScaler()  \n",
        "x_train= st_x.fit_transform(x_train)    \n",
        "x_test= st_x.transform(x_test) "
      ],
      "metadata": {
        "id": "oo1x4MHNKFXQ"
      },
      "execution_count": 49,
      "outputs": []
    },
    {
      "cell_type": "markdown",
      "source": [
        "Decision Tree"
      ],
      "metadata": {
        "id": "D6nPmT3rnjAE"
      }
    },
    {
      "cell_type": "code",
      "source": [
        "#Fitting Decision Tree classifier to the training set  \n",
        "from sklearn.tree import DecisionTreeClassifier  \n",
        "classifier= DecisionTreeClassifier(criterion='entropy', random_state=0)  \n",
        "classifier.fit(x_train, y_train)"
      ],
      "metadata": {
        "colab": {
          "base_uri": "https://localhost:8080/"
        },
        "id": "uyEL1hnyJ2PS",
        "outputId": "f42f84b3-df0d-4e12-efa2-10ff94fc620e"
      },
      "execution_count": 50,
      "outputs": [
        {
          "output_type": "execute_result",
          "data": {
            "text/plain": [
              "DecisionTreeClassifier(criterion='entropy', random_state=0)"
            ]
          },
          "metadata": {},
          "execution_count": 50
        }
      ]
    },
    {
      "cell_type": "code",
      "source": [
        "#Predicting the test set result  \n",
        "y_pred= classifier.predict(x_test)  \n",
        "print(y_pred)"
      ],
      "metadata": {
        "colab": {
          "base_uri": "https://localhost:8080/"
        },
        "id": "0rXONyx2mwlA",
        "outputId": "53ee34a4-aef3-4965-8354-cfe9c50ad5f1"
      },
      "execution_count": 51,
      "outputs": [
        {
          "output_type": "stream",
          "name": "stdout",
          "text": [
            "['Yes' 'Yes' 'Yes' 'No' 'Yes' 'No' 'No' 'No' 'No' 'No' 'No' 'Yes' 'No'\n",
            " 'No' 'No' 'No' 'No' 'Yes' 'No' 'No' 'No' 'No' 'No' 'No' 'Yes' 'No' 'No'\n",
            " 'No' 'No' 'No' 'No' 'No' 'Yes' 'Yes' 'No' 'No' 'No' 'No' 'No' 'No' 'No'\n",
            " 'No' 'Yes' 'No' 'Yes' 'Yes' 'No' 'Yes' 'No' 'No' 'No' 'No' 'No' 'Yes'\n",
            " 'No' 'No' 'Yes' 'No' 'Yes' 'No' 'Yes' 'No' 'No' 'No' 'No' 'Yes' 'No' 'No'\n",
            " 'No' 'No' 'No' 'No' 'No' 'No' 'No' 'Yes' 'No' 'Yes' 'No' 'No' 'No' 'No'\n",
            " 'No' 'No' 'No' 'No' 'No' 'No' 'No' 'No' 'Yes' 'No' 'No' 'No' 'No' 'Yes'\n",
            " 'No' 'No' 'No' 'No' 'Yes' 'No' 'Yes' 'No' 'No' 'No' 'No' 'No' 'No' 'No'\n",
            " 'Yes' 'Yes' 'No' 'No' 'No' 'No' 'No' 'No' 'Yes' 'No' 'No' 'No' 'No' 'No'\n",
            " 'No' 'No' 'No' 'No' 'Yes' 'Yes' 'No' 'No' 'No' 'No' 'No' 'Yes' 'No' 'Yes'\n",
            " 'Yes' 'No' 'Yes' 'Yes' 'No' 'Yes' 'No' 'No' 'No' 'No' 'No' 'Yes' 'Yes'\n",
            " 'No' 'No' 'Yes' 'No' 'No' 'No' 'Yes' 'No' 'No' 'Yes' 'Yes' 'No' 'No' 'No'\n",
            " 'No' 'Yes' 'Yes' 'No' 'Yes' 'Yes' 'Yes' 'Yes' 'No' 'No' 'No' 'No' 'No'\n",
            " 'No' 'Yes' 'No' 'No' 'Yes' 'Yes' 'No' 'Yes' 'Yes' 'No' 'Yes' 'Yes' 'No'\n",
            " 'No' 'No' 'No' 'No' 'No' 'Yes' 'Yes' 'No' 'No' 'Yes' 'Yes' 'No' 'Yes'\n",
            " 'No' 'No' 'No' 'Yes' 'Yes' 'No' 'Yes' 'Yes' 'No' 'No' 'Yes' 'No' 'No'\n",
            " 'No' 'Yes' 'No' 'No' 'No' 'No' 'No' 'Yes' 'Yes' 'Yes' 'No' 'No' 'No'\n",
            " 'Yes' 'No' 'No' 'No' 'No' 'Yes' 'No' 'No' 'No' 'No' 'No' 'No' 'No' 'No'\n",
            " 'No' 'No' 'No' 'Yes' 'No' 'No']\n"
          ]
        }
      ]
    },
    {
      "cell_type": "code",
      "source": [
        "def getClassificationReport(cm):\n",
        "  TP = cm[0][0]\n",
        "  TN = cm[1][1]\n",
        "  FN = cm[0][1]\n",
        "  FP = cm[1][0]\n",
        "  SN = TP/(TP+FN)\n",
        "  SP= TN/(TN+FP)\n",
        "  ACC =(TP+TN)/(TP+TN+FP+FN)\n",
        "  PRE = TP/(FP+TP)\n",
        "  F1 = (2*PRE*SN)/(PRE+SN)\n",
        "  MCC = (TP*TN - FP*FN) / (((TP+FP)*(TP+FN)*(TN+FP)*(TN+FN))**(1/2))\n",
        "  return SN,SP,ACC,MCC,F1\n"
      ],
      "metadata": {
        "id": "5S6o79k3OD_m"
      },
      "execution_count": 56,
      "outputs": []
    },
    {
      "cell_type": "code",
      "source": [
        "#Creating the Confusion matrix  \n",
        "from sklearn.metrics import confusion_matrix  \n",
        "cm= confusion_matrix(y_test, y_pred)\n",
        "print(cm)\n",
        "getClassificationReport(cm)"
      ],
      "metadata": {
        "colab": {
          "base_uri": "https://localhost:8080/"
        },
        "id": "2p4Mqipds9S2",
        "outputId": "772247de-c097-4b0c-cf8a-49945bcbfb5f"
      },
      "execution_count": 57,
      "outputs": [
        {
          "output_type": "stream",
          "name": "stdout",
          "text": [
            "[[146  24]\n",
            " [ 33  47]]\n"
          ]
        },
        {
          "output_type": "execute_result",
          "data": {
            "text/plain": [
              "(0.8588235294117647, 0.5875, 0.772, 0.46170390425311114, 0.836676217765043)"
            ]
          },
          "metadata": {},
          "execution_count": 57
        }
      ]
    },
    {
      "cell_type": "code",
      "source": [
        "from sklearn.metrics import accuracy_score\n",
        "accuracy_score(y_test, y_pred)"
      ],
      "metadata": {
        "colab": {
          "base_uri": "https://localhost:8080/"
        },
        "id": "gNM_01wbm9R0",
        "outputId": "3405b028-239c-4a90-eb5e-a88406cf9a9b"
      },
      "execution_count": 66,
      "outputs": [
        {
          "output_type": "execute_result",
          "data": {
            "text/plain": [
              "0.772"
            ]
          },
          "metadata": {},
          "execution_count": 66
        }
      ]
    },
    {
      "cell_type": "markdown",
      "source": [
        ""
      ],
      "metadata": {
        "id": "sKlw1Se0WmUY"
      }
    },
    {
      "cell_type": "markdown",
      "source": [
        "Random Forest"
      ],
      "metadata": {
        "id": "KGTe9kjkndBp"
      }
    },
    {
      "cell_type": "code",
      "source": [
        "#Fitting Decision Tree classifier to the training set  \n",
        "from sklearn.ensemble import RandomForestClassifier  \n",
        "classifier_rfc= RandomForestClassifier(n_estimators= 10, criterion=\"entropy\")  \n",
        "classifier_rfc.fit(x_train, y_train) "
      ],
      "metadata": {
        "colab": {
          "base_uri": "https://localhost:8080/"
        },
        "id": "RgfEDYNjnDz-",
        "outputId": "192f4af3-d9f7-4fee-9ea4-6ceb9fc7cbcc"
      },
      "execution_count": 60,
      "outputs": [
        {
          "output_type": "execute_result",
          "data": {
            "text/plain": [
              "RandomForestClassifier(criterion='entropy', n_estimators=10)"
            ]
          },
          "metadata": {},
          "execution_count": 60
        }
      ]
    },
    {
      "cell_type": "code",
      "source": [
        "#Predicting the test set result  \n",
        "y_pred_rfc = classifier_rfc.predict(x_test) "
      ],
      "metadata": {
        "id": "bGTKWoJFnD7e"
      },
      "execution_count": 61,
      "outputs": []
    },
    {
      "cell_type": "code",
      "source": [
        "#Creating the Confusion matrix  \n",
        "from sklearn.metrics import confusion_matrix  \n",
        "cm_rfc= confusion_matrix(y_test, y_pred_rfc)  \n",
        "print(cm_rfc)\n",
        "getClassificationReport(cm_rfc)"
      ],
      "metadata": {
        "colab": {
          "base_uri": "https://localhost:8080/"
        },
        "id": "JYUE9aIMuG36",
        "outputId": "2d1677ee-1178-42be-a81c-85b55d9dd083"
      },
      "execution_count": 65,
      "outputs": [
        {
          "output_type": "stream",
          "name": "stdout",
          "text": [
            "[[148  22]\n",
            " [ 43  37]]\n"
          ]
        },
        {
          "output_type": "execute_result",
          "data": {
            "text/plain": [
              "(0.8705882352941177, 0.4625, 0.74, 0.3659199251131987, 0.8199445983379501)"
            ]
          },
          "metadata": {},
          "execution_count": 65
        }
      ]
    },
    {
      "cell_type": "code",
      "source": [
        "from sklearn.metrics import accuracy_score\n",
        "accuracy_score(y_test, y_pred_rfc)"
      ],
      "metadata": {
        "colab": {
          "base_uri": "https://localhost:8080/"
        },
        "id": "_8D7oUqGnW2G",
        "outputId": "5f73b06d-7630-40e5-83e2-f80f7f372c29"
      },
      "execution_count": 67,
      "outputs": [
        {
          "output_type": "execute_result",
          "data": {
            "text/plain": [
              "0.74"
            ]
          },
          "metadata": {},
          "execution_count": 67
        }
      ]
    },
    {
      "cell_type": "markdown",
      "source": [
        "Logistic Regression"
      ],
      "metadata": {
        "id": "uDsQ3QgvpESE"
      }
    },
    {
      "cell_type": "code",
      "source": [
        "from sklearn.linear_model import LogisticRegression  \n",
        "classifier= LogisticRegression(random_state=0)  \n",
        "classifier.fit(x_train, y_train) "
      ],
      "metadata": {
        "colab": {
          "base_uri": "https://localhost:8080/"
        },
        "id": "bANjALpcotQs",
        "outputId": "689f92eb-9f38-4a8a-8a69-ebad1ca59e36"
      },
      "execution_count": 69,
      "outputs": [
        {
          "output_type": "execute_result",
          "data": {
            "text/plain": [
              "LogisticRegression(random_state=0)"
            ]
          },
          "metadata": {},
          "execution_count": 69
        }
      ]
    },
    {
      "cell_type": "code",
      "source": [
        "#Predicting the test set result  \n",
        "y_pred_lr= classifier.predict(x_test)"
      ],
      "metadata": {
        "id": "qbUnTwKoo2ww"
      },
      "execution_count": 70,
      "outputs": []
    },
    {
      "cell_type": "code",
      "source": [
        "#Creating the Confusion matrix  \n",
        "from sklearn.metrics import confusion_matrix  \n",
        "cm_lr= confusion_matrix(y_test, y_pred_lr)  \n",
        "print(cm_lr)\n",
        "getClassificationReport(cm_lr)"
      ],
      "metadata": {
        "colab": {
          "base_uri": "https://localhost:8080/"
        },
        "id": "glxHpF2-uicW",
        "outputId": "55ee3390-69c3-43fc-864a-57fa1b829c01"
      },
      "execution_count": 71,
      "outputs": [
        {
          "output_type": "stream",
          "name": "stdout",
          "text": [
            "[[141  29]\n",
            " [ 32  48]]\n"
          ]
        },
        {
          "output_type": "execute_result",
          "data": {
            "text/plain": [
              "(0.8294117647058824, 0.6, 0.756, 0.43388534222142894, 0.8221574344023324)"
            ]
          },
          "metadata": {},
          "execution_count": 71
        }
      ]
    },
    {
      "cell_type": "code",
      "source": [
        "from sklearn.metrics import accuracy_score\n",
        "accuracy_score(y_test, y_pred_lr)"
      ],
      "metadata": {
        "colab": {
          "base_uri": "https://localhost:8080/"
        },
        "id": "-ebRnsy8o-LC",
        "outputId": "22a719f9-54bc-4678-9e5b-0cab776dd8f4"
      },
      "execution_count": 72,
      "outputs": [
        {
          "output_type": "execute_result",
          "data": {
            "text/plain": [
              "0.756"
            ]
          },
          "metadata": {},
          "execution_count": 72
        }
      ]
    },
    {
      "cell_type": "markdown",
      "source": [
        "Support Vector Machine"
      ],
      "metadata": {
        "id": "HtrPPffWZOBm"
      }
    },
    {
      "cell_type": "code",
      "source": [
        "from sklearn.svm import SVC  \n",
        "classifier= SVC (random_state=0)  \n",
        "classifier.fit(x_train, y_train) "
      ],
      "metadata": {
        "colab": {
          "base_uri": "https://localhost:8080/"
        },
        "id": "isSjWC50SS6F",
        "outputId": "e8ec405a-2fdd-426e-e8e1-1208f6401d63"
      },
      "execution_count": 73,
      "outputs": [
        {
          "output_type": "execute_result",
          "data": {
            "text/plain": [
              "SVC(random_state=0)"
            ]
          },
          "metadata": {},
          "execution_count": 73
        }
      ]
    },
    {
      "cell_type": "code",
      "source": [
        "#Predicting the test set result  \n",
        "y_pred_svc= classifier.predict(x_test)"
      ],
      "metadata": {
        "id": "U0dPgfTQUDTK"
      },
      "execution_count": 74,
      "outputs": []
    },
    {
      "cell_type": "code",
      "source": [
        "#Creating the Confusion matrix  \n",
        "from sklearn.metrics import confusion_matrix  \n",
        "cm_svc= confusion_matrix(y_test, y_pred_svc)  \n",
        "print(cm_svc)\n",
        "getClassificationReport(cm_svc)"
      ],
      "metadata": {
        "colab": {
          "base_uri": "https://localhost:8080/"
        },
        "id": "w1fWF3vcPfbU",
        "outputId": "78d45523-a077-474b-f0ad-1af2e6e3b166"
      },
      "execution_count": 75,
      "outputs": [
        {
          "output_type": "stream",
          "name": "stdout",
          "text": [
            "[[145  25]\n",
            " [ 30  50]]\n"
          ]
        },
        {
          "output_type": "execute_result",
          "data": {
            "text/plain": [
              "(0.8529411764705882, 0.625, 0.78, 0.48651277256732783, 0.8405797101449276)"
            ]
          },
          "metadata": {},
          "execution_count": 75
        }
      ]
    },
    {
      "cell_type": "code",
      "source": [
        "from sklearn.svm import SVC\n",
        "svc_model = SVC()\n",
        "svc_model.fit(x_train,y_train)\n",
        "svc_model = svc_model.score(x_test, y_test)\n",
        "svc_model"
      ],
      "metadata": {
        "colab": {
          "base_uri": "https://localhost:8080/"
        },
        "id": "0jeTxTBlZAAy",
        "outputId": "58cf3212-daa2-45b6-83d1-f149c774c7af"
      },
      "execution_count": 76,
      "outputs": [
        {
          "output_type": "execute_result",
          "data": {
            "text/plain": [
              "0.78"
            ]
          },
          "metadata": {},
          "execution_count": 76
        }
      ]
    },
    {
      "cell_type": "markdown",
      "source": [
        "GaussianNB"
      ],
      "metadata": {
        "id": "DpDwXsL6Y2KU"
      }
    },
    {
      "cell_type": "code",
      "source": [
        "from sklearn.naive_bayes import GaussianNB  \n",
        "classifier= GaussianNB ()  \n",
        "classifier.fit(x_train, y_train) "
      ],
      "metadata": {
        "colab": {
          "base_uri": "https://localhost:8080/"
        },
        "id": "B2pNWZeNU7op",
        "outputId": "a5dd390b-a86f-4fab-abac-2afec49f3fc2"
      },
      "execution_count": 77,
      "outputs": [
        {
          "output_type": "execute_result",
          "data": {
            "text/plain": [
              "GaussianNB()"
            ]
          },
          "metadata": {},
          "execution_count": 77
        }
      ]
    },
    {
      "cell_type": "code",
      "source": [
        "#Predicting the test set result  \n",
        "y_pred_GaussianNB= classifier.predict(x_test)"
      ],
      "metadata": {
        "id": "N6-4WreOVUdi"
      },
      "execution_count": 78,
      "outputs": []
    },
    {
      "cell_type": "code",
      "source": [
        "#Creating the Confusion matrix  \n",
        "from sklearn.metrics import confusion_matrix  \n",
        "cm_GaussianNB= confusion_matrix(y_test, y_pred_GaussianNB)  \n",
        "print(cm_GaussianNB)\n",
        "getClassificationReport(cm_GaussianNB)"
      ],
      "metadata": {
        "colab": {
          "base_uri": "https://localhost:8080/"
        },
        "id": "oUYxHEYGVfFm",
        "outputId": "b42d663f-42d8-4eac-caba-45adc11fc5b3"
      },
      "execution_count": 79,
      "outputs": [
        {
          "output_type": "stream",
          "name": "stdout",
          "text": [
            "[[143  27]\n",
            " [ 23  57]]\n"
          ]
        },
        {
          "output_type": "execute_result",
          "data": {
            "text/plain": [
              "(0.8411764705882353, 0.7125, 0.8, 0.546804191491934, 0.8511904761904762)"
            ]
          },
          "metadata": {},
          "execution_count": 79
        }
      ]
    },
    {
      "cell_type": "code",
      "source": [
        "from sklearn.naive_bayes import GaussianNB\n",
        "gauss_nb_model = GaussianNB()\n",
        "gauss_nb_model.fit(x_train,y_train)\n",
        "gauss_nb_model = gauss_nb_model.score(x_test, y_test)\n",
        "gauss_nb_model"
      ],
      "metadata": {
        "colab": {
          "base_uri": "https://localhost:8080/"
        },
        "id": "aUMA3X3z1Z8Y",
        "outputId": "dd079e9e-c5dc-4ffb-e54f-65b3d95c0509"
      },
      "execution_count": 80,
      "outputs": [
        {
          "output_type": "execute_result",
          "data": {
            "text/plain": [
              "0.8"
            ]
          },
          "metadata": {},
          "execution_count": 80
        }
      ]
    },
    {
      "cell_type": "markdown",
      "source": [
        "KNeighborsClassifier"
      ],
      "metadata": {
        "id": "z6OfOfuaYq8Q"
      }
    },
    {
      "cell_type": "code",
      "source": [
        "from sklearn.neighbors import KNeighborsClassifier  \n",
        "classifier= KNeighborsClassifier ()  \n",
        "classifier.fit(x_train, y_train)"
      ],
      "metadata": {
        "colab": {
          "base_uri": "https://localhost:8080/"
        },
        "id": "07zYJAbNX1UD",
        "outputId": "f5a69d2a-0e92-4cde-8623-645c4ba062c2"
      },
      "execution_count": 85,
      "outputs": [
        {
          "output_type": "execute_result",
          "data": {
            "text/plain": [
              "KNeighborsClassifier()"
            ]
          },
          "metadata": {},
          "execution_count": 85
        }
      ]
    },
    {
      "cell_type": "code",
      "source": [
        "#Predicting the test set result  \n",
        "y_pred_KNeighborsClassifier= classifier.predict(x_test)"
      ],
      "metadata": {
        "id": "PEp7_mjNYKtc"
      },
      "execution_count": 86,
      "outputs": []
    },
    {
      "cell_type": "code",
      "source": [
        "#Creating the Confusion matrix  \n",
        "from sklearn.metrics import confusion_matrix  \n",
        "cm_KNeighborsClassifier= confusion_matrix(y_test, y_pred_KNeighborsClassifier)  \n",
        "print(cm_KNeighborsClassifier)\n",
        "getClassificationReport(cm_KNeighborsClassifier)"
      ],
      "metadata": {
        "colab": {
          "base_uri": "https://localhost:8080/"
        },
        "id": "jaTwVOP7YRuu",
        "outputId": "63532f38-9191-4e1b-b1c2-dae7116153c5"
      },
      "execution_count": 87,
      "outputs": [
        {
          "output_type": "stream",
          "name": "stdout",
          "text": [
            "[[150  20]\n",
            " [ 42  38]]\n"
          ]
        },
        {
          "output_type": "execute_result",
          "data": {
            "text/plain": [
              "(0.8823529411764706, 0.475, 0.752, 0.39491370343949855, 0.8287292817679558)"
            ]
          },
          "metadata": {},
          "execution_count": 87
        }
      ]
    },
    {
      "cell_type": "code",
      "source": [
        "from sklearn.neighbors import KNeighborsClassifier\n",
        "knn = KNeighborsClassifier()\n",
        "knn.fit(x_train,y_train)\n",
        "knn = knn.score(x_test,y_test)\n",
        "knn"
      ],
      "metadata": {
        "colab": {
          "base_uri": "https://localhost:8080/"
        },
        "id": "kolW6PX518zG",
        "outputId": "771c6978-a92b-476f-cd17-297944f151ee"
      },
      "execution_count": 88,
      "outputs": [
        {
          "output_type": "execute_result",
          "data": {
            "text/plain": [
              "0.752"
            ]
          },
          "metadata": {},
          "execution_count": 88
        }
      ]
    }
  ]
}